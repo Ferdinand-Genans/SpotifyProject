{
 "cells": [
  {
   "cell_type": "code",
   "execution_count": null,
   "id": "087c901b",
   "metadata": {},
   "outputs": [],
   "source": [
    "import spotipy\n",
    "import pandas as pd\n",
    "import numpy as np\n",
    "import matplotlib.pyplot as plt\n",
    "%matplotlib inline\n",
    "import librosa\n",
    "import librosa.display\n",
    "import io\n",
    "import cv2\n",
    "import os\n",
    "from PIL import Image\n",
    "import pathlib\n",
    "import csv\n",
    "import warnings\n",
    "warnings.filterwarnings('ignore')"
   ]
  },
  {
   "cell_type": "code",
   "execution_count": null,
   "id": "d5c0da52",
   "metadata": {},
   "outputs": [],
   "source": [
    "url_dataset = 'https://github.com/Ferdinand-Genans/SpotifyProject/blob/main/dataset.csv?raw=true'\n",
    "df = pd.read_csv(url_dataset, index_col=0) #telechargement du dataset des musiques Spotify\n",
    "df = df.dropna()\n",
    "genres = ['classical','country', 'house', 'metal', 'k-pop', 'jazz', 'rock', 'pop', 'r-n-b', 'reggae']\n",
    "df = df.loc[df.track_genre.isin(genres)]\n",
    "df = df.reset_index() #pour que les indices partent de 0"
   ]
  },
  {
   "cell_type": "code",
   "execution_count": null,
   "id": "6d4d1644",
   "metadata": {},
   "outputs": [],
   "source": [
    "def get_img_from_fig(fig, dpi=180):\n",
    "    buf = io.BytesIO()\n",
    "    fig.savefig(buf, format=\"png\", dpi=dpi)\n",
    "    buf.seek(0)\n",
    "    img_arr = np.frombuffer(buf.getvalue(), dtype=np.uint8)\n",
    "    buf.close()\n",
    "    img = cv2.imdecode(img_arr, 1)\n",
    "    img = cv2.cvtColor(img, cv2.COLOR_BGR2RGB)\n",
    "    return img\n",
    "\n",
    "def crop_white(array):\n",
    "    image = array\n",
    "    # Selectionne tous les pixels qui sont pratiqquement b\n",
    "    white = np.array([255, 255, 255])\n",
    "    mask = np.abs(image - white).sum(axis=2) < 10\n",
    "\n",
    "    # Find the bounding box of those pixels\n",
    "    coords = np.array(np.nonzero(~mask))\n",
    "    top_left = np.min(coords, axis=1)\n",
    "    bottom_right = np.max(coords, axis=1)\n",
    "\n",
    "    out = image[top_left[0]:bottom_right[0],\n",
    "                top_left[1]:bottom_right[1]]\n",
    "    return out\n",
    "\n",
    "def preprocessing_audio_chroma(path_in, path_out):\n",
    "    y, sr = librosa.load(path_in)\n",
    "    length = len(y)//3\n",
    "    for i in range(3):\n",
    "        path_out_ = path_out+\"_chroma_\"+str(i)+\".png\"\n",
    "        y_ = y[i*length:(i+1)*length]\n",
    "        C = librosa.feature.chroma_cqt(y=y_, sr=sr)\n",
    "        fig, ax = plt.subplots(figsize=(2.5, 2.5))\n",
    "        img = librosa.display.specshow(C, ax=ax, cmap=\"gray\")\n",
    "        array = get_img_from_fig(fig)\n",
    "        array_cropped = crop_white(array)\n",
    "        im = Image.fromarray(array_cropped)\n",
    "        print(\"saving\", path_out_)\n",
    "        im.save(path_out_)"
   ]
  },
  {
   "cell_type": "code",
   "execution_count": null,
   "id": "1722adfd",
   "metadata": {},
   "outputs": [],
   "source": [
    "genres_ = ['classical','country', 'house', 'metal', 'k-pop', 'jazz', 'rock']\n",
    "\n",
    "for g in genres:\n",
    "    path = g+\"/\"\n",
    "    name_chroma = g+\"_chroma\"\n",
    "    os.mkdir(name_chroma)\n",
    "    name_cqt = g+\"_cqt\"\n",
    "    os.mkdir(name_cqt)\n",
    "    for root, dirs, files in os.walk(g):\n",
    "        for file in files:\n",
    "            name = file.split(\".\")[0]\n",
    "            path_in = path+file\n",
    "            path_out_chroma = name_chroma+\"/\"+name\n",
    "            try: \n",
    "                preprocessing_audio_chroma(path_in, path_out_chroma)\n",
    "            except: \n",
    "                print(\"Error:\", name)         "
   ]
  }
 ],
 "metadata": {
  "kernelspec": {
   "display_name": "Python 3 (ipykernel)",
   "language": "python",
   "name": "python3"
  },
  "language_info": {
   "codemirror_mode": {
    "name": "ipython",
    "version": 3
   },
   "file_extension": ".py",
   "mimetype": "text/x-python",
   "name": "python",
   "nbconvert_exporter": "python",
   "pygments_lexer": "ipython3",
   "version": "3.9.12"
  }
 },
 "nbformat": 4,
 "nbformat_minor": 5
}
