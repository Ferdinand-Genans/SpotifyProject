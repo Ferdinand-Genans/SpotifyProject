{
 "cells": [
  {
   "cell_type": "code",
   "execution_count": 20,
   "id": "cfc18115",
   "metadata": {},
   "outputs": [],
   "source": [
    "import pandas as pd\n",
    "import numpy as np\n",
    "np.random.seed(0) #pour la reproductibilité"
   ]
  },
  {
   "cell_type": "code",
   "execution_count": 2,
   "id": "77391324",
   "metadata": {},
   "outputs": [],
   "source": [
    "url_dataset = 'https://github.com/Ferdinand-Genans/SpotifyProject/blob/main/dataset.csv?raw=true'\n",
    "df = pd.read_csv(url_dataset, index_col=0) #telechargement du dataset des musiques Spotify"
   ]
  },
  {
   "cell_type": "code",
   "execution_count": 3,
   "id": "421c8110",
   "metadata": {},
   "outputs": [
    {
     "data": {
      "text/plain": [
       "track_id            0\n",
       "artists             1\n",
       "album_name          1\n",
       "track_name          1\n",
       "popularity          0\n",
       "duration_ms         0\n",
       "explicit            0\n",
       "danceability        0\n",
       "energy              0\n",
       "key                 0\n",
       "loudness            0\n",
       "mode                0\n",
       "speechiness         0\n",
       "acousticness        0\n",
       "instrumentalness    0\n",
       "liveness            0\n",
       "valence             0\n",
       "tempo               0\n",
       "time_signature      0\n",
       "track_genre         0\n",
       "dtype: int64"
      ]
     },
     "execution_count": 3,
     "metadata": {},
     "output_type": "execute_result"
    }
   ],
   "source": [
    "df.isnull().sum()"
   ]
  },
  {
   "cell_type": "code",
   "execution_count": 4,
   "id": "664df399",
   "metadata": {},
   "outputs": [],
   "source": [
    "#suppression des lignes avec données manquantes\n",
    "df = df.dropna()"
   ]
  },
  {
   "cell_type": "code",
   "execution_count": 5,
   "id": "210557ca",
   "metadata": {},
   "outputs": [
    {
     "data": {
      "text/plain": [
       "track_id            0\n",
       "artists             0\n",
       "album_name          0\n",
       "track_name          0\n",
       "popularity          0\n",
       "duration_ms         0\n",
       "explicit            0\n",
       "danceability        0\n",
       "energy              0\n",
       "key                 0\n",
       "loudness            0\n",
       "mode                0\n",
       "speechiness         0\n",
       "acousticness        0\n",
       "instrumentalness    0\n",
       "liveness            0\n",
       "valence             0\n",
       "tempo               0\n",
       "time_signature      0\n",
       "track_genre         0\n",
       "dtype: int64"
      ]
     },
     "execution_count": 5,
     "metadata": {},
     "output_type": "execute_result"
    }
   ],
   "source": [
    "#Verification de la suppression\n",
    "df.isnull().sum()"
   ]
  },
  {
   "cell_type": "code",
   "execution_count": 6,
   "id": "18be5d2b",
   "metadata": {},
   "outputs": [
    {
     "data": {
      "text/html": [
       "<div>\n",
       "<style scoped>\n",
       "    .dataframe tbody tr th:only-of-type {\n",
       "        vertical-align: middle;\n",
       "    }\n",
       "\n",
       "    .dataframe tbody tr th {\n",
       "        vertical-align: top;\n",
       "    }\n",
       "\n",
       "    .dataframe thead th {\n",
       "        text-align: right;\n",
       "    }\n",
       "</style>\n",
       "<table border=\"1\" class=\"dataframe\">\n",
       "  <thead>\n",
       "    <tr style=\"text-align: right;\">\n",
       "      <th></th>\n",
       "      <th>popularity</th>\n",
       "      <th>duration_ms</th>\n",
       "      <th>danceability</th>\n",
       "      <th>energy</th>\n",
       "      <th>key</th>\n",
       "      <th>loudness</th>\n",
       "      <th>mode</th>\n",
       "      <th>speechiness</th>\n",
       "      <th>acousticness</th>\n",
       "      <th>instrumentalness</th>\n",
       "      <th>liveness</th>\n",
       "      <th>valence</th>\n",
       "      <th>tempo</th>\n",
       "      <th>time_signature</th>\n",
       "    </tr>\n",
       "  </thead>\n",
       "  <tbody>\n",
       "    <tr>\n",
       "      <th>count</th>\n",
       "      <td>113999.000000</td>\n",
       "      <td>1.139990e+05</td>\n",
       "      <td>113999.000000</td>\n",
       "      <td>113999.000000</td>\n",
       "      <td>113999.000000</td>\n",
       "      <td>113999.000000</td>\n",
       "      <td>113999.000000</td>\n",
       "      <td>113999.000000</td>\n",
       "      <td>113999.000000</td>\n",
       "      <td>113999.000000</td>\n",
       "      <td>113999.000000</td>\n",
       "      <td>113999.000000</td>\n",
       "      <td>113999.000000</td>\n",
       "      <td>113999.000000</td>\n",
       "    </tr>\n",
       "    <tr>\n",
       "      <th>mean</th>\n",
       "      <td>33.238827</td>\n",
       "      <td>2.280312e+05</td>\n",
       "      <td>0.566801</td>\n",
       "      <td>0.641383</td>\n",
       "      <td>5.309126</td>\n",
       "      <td>-8.258950</td>\n",
       "      <td>0.637558</td>\n",
       "      <td>0.084652</td>\n",
       "      <td>0.314907</td>\n",
       "      <td>0.156051</td>\n",
       "      <td>0.213554</td>\n",
       "      <td>0.474066</td>\n",
       "      <td>122.147695</td>\n",
       "      <td>3.904034</td>\n",
       "    </tr>\n",
       "    <tr>\n",
       "      <th>std</th>\n",
       "      <td>22.304959</td>\n",
       "      <td>1.072961e+05</td>\n",
       "      <td>0.173543</td>\n",
       "      <td>0.251530</td>\n",
       "      <td>3.559999</td>\n",
       "      <td>5.029357</td>\n",
       "      <td>0.480708</td>\n",
       "      <td>0.105733</td>\n",
       "      <td>0.332522</td>\n",
       "      <td>0.309556</td>\n",
       "      <td>0.190378</td>\n",
       "      <td>0.259261</td>\n",
       "      <td>29.978290</td>\n",
       "      <td>0.432623</td>\n",
       "    </tr>\n",
       "    <tr>\n",
       "      <th>min</th>\n",
       "      <td>0.000000</td>\n",
       "      <td>8.586000e+03</td>\n",
       "      <td>0.000000</td>\n",
       "      <td>0.000000</td>\n",
       "      <td>0.000000</td>\n",
       "      <td>-49.531000</td>\n",
       "      <td>0.000000</td>\n",
       "      <td>0.000000</td>\n",
       "      <td>0.000000</td>\n",
       "      <td>0.000000</td>\n",
       "      <td>0.000000</td>\n",
       "      <td>0.000000</td>\n",
       "      <td>0.000000</td>\n",
       "      <td>0.000000</td>\n",
       "    </tr>\n",
       "    <tr>\n",
       "      <th>25%</th>\n",
       "      <td>17.000000</td>\n",
       "      <td>1.740660e+05</td>\n",
       "      <td>0.456000</td>\n",
       "      <td>0.472000</td>\n",
       "      <td>2.000000</td>\n",
       "      <td>-10.013000</td>\n",
       "      <td>0.000000</td>\n",
       "      <td>0.035900</td>\n",
       "      <td>0.016900</td>\n",
       "      <td>0.000000</td>\n",
       "      <td>0.098000</td>\n",
       "      <td>0.260000</td>\n",
       "      <td>99.218500</td>\n",
       "      <td>4.000000</td>\n",
       "    </tr>\n",
       "    <tr>\n",
       "      <th>50%</th>\n",
       "      <td>35.000000</td>\n",
       "      <td>2.129060e+05</td>\n",
       "      <td>0.580000</td>\n",
       "      <td>0.685000</td>\n",
       "      <td>5.000000</td>\n",
       "      <td>-7.004000</td>\n",
       "      <td>1.000000</td>\n",
       "      <td>0.048900</td>\n",
       "      <td>0.169000</td>\n",
       "      <td>0.000042</td>\n",
       "      <td>0.132000</td>\n",
       "      <td>0.464000</td>\n",
       "      <td>122.017000</td>\n",
       "      <td>4.000000</td>\n",
       "    </tr>\n",
       "    <tr>\n",
       "      <th>75%</th>\n",
       "      <td>50.000000</td>\n",
       "      <td>2.615060e+05</td>\n",
       "      <td>0.695000</td>\n",
       "      <td>0.854000</td>\n",
       "      <td>8.000000</td>\n",
       "      <td>-5.003000</td>\n",
       "      <td>1.000000</td>\n",
       "      <td>0.084500</td>\n",
       "      <td>0.597500</td>\n",
       "      <td>0.049000</td>\n",
       "      <td>0.273000</td>\n",
       "      <td>0.683000</td>\n",
       "      <td>140.071000</td>\n",
       "      <td>4.000000</td>\n",
       "    </tr>\n",
       "    <tr>\n",
       "      <th>max</th>\n",
       "      <td>100.000000</td>\n",
       "      <td>5.237295e+06</td>\n",
       "      <td>0.985000</td>\n",
       "      <td>1.000000</td>\n",
       "      <td>11.000000</td>\n",
       "      <td>4.532000</td>\n",
       "      <td>1.000000</td>\n",
       "      <td>0.965000</td>\n",
       "      <td>0.996000</td>\n",
       "      <td>1.000000</td>\n",
       "      <td>1.000000</td>\n",
       "      <td>0.995000</td>\n",
       "      <td>243.372000</td>\n",
       "      <td>5.000000</td>\n",
       "    </tr>\n",
       "  </tbody>\n",
       "</table>\n",
       "</div>"
      ],
      "text/plain": [
       "          popularity   duration_ms   danceability         energy  \\\n",
       "count  113999.000000  1.139990e+05  113999.000000  113999.000000   \n",
       "mean       33.238827  2.280312e+05       0.566801       0.641383   \n",
       "std        22.304959  1.072961e+05       0.173543       0.251530   \n",
       "min         0.000000  8.586000e+03       0.000000       0.000000   \n",
       "25%        17.000000  1.740660e+05       0.456000       0.472000   \n",
       "50%        35.000000  2.129060e+05       0.580000       0.685000   \n",
       "75%        50.000000  2.615060e+05       0.695000       0.854000   \n",
       "max       100.000000  5.237295e+06       0.985000       1.000000   \n",
       "\n",
       "                 key       loudness           mode    speechiness  \\\n",
       "count  113999.000000  113999.000000  113999.000000  113999.000000   \n",
       "mean        5.309126      -8.258950       0.637558       0.084652   \n",
       "std         3.559999       5.029357       0.480708       0.105733   \n",
       "min         0.000000     -49.531000       0.000000       0.000000   \n",
       "25%         2.000000     -10.013000       0.000000       0.035900   \n",
       "50%         5.000000      -7.004000       1.000000       0.048900   \n",
       "75%         8.000000      -5.003000       1.000000       0.084500   \n",
       "max        11.000000       4.532000       1.000000       0.965000   \n",
       "\n",
       "        acousticness  instrumentalness       liveness        valence  \\\n",
       "count  113999.000000     113999.000000  113999.000000  113999.000000   \n",
       "mean        0.314907          0.156051       0.213554       0.474066   \n",
       "std         0.332522          0.309556       0.190378       0.259261   \n",
       "min         0.000000          0.000000       0.000000       0.000000   \n",
       "25%         0.016900          0.000000       0.098000       0.260000   \n",
       "50%         0.169000          0.000042       0.132000       0.464000   \n",
       "75%         0.597500          0.049000       0.273000       0.683000   \n",
       "max         0.996000          1.000000       1.000000       0.995000   \n",
       "\n",
       "               tempo  time_signature  \n",
       "count  113999.000000   113999.000000  \n",
       "mean      122.147695        3.904034  \n",
       "std        29.978290        0.432623  \n",
       "min         0.000000        0.000000  \n",
       "25%        99.218500        4.000000  \n",
       "50%       122.017000        4.000000  \n",
       "75%       140.071000        4.000000  \n",
       "max       243.372000        5.000000  "
      ]
     },
     "execution_count": 6,
     "metadata": {},
     "output_type": "execute_result"
    }
   ],
   "source": [
    "df.describe()"
   ]
  },
  {
   "cell_type": "code",
   "execution_count": 7,
   "id": "01a996f9",
   "metadata": {},
   "outputs": [
    {
     "data": {
      "text/plain": [
       "114"
      ]
     },
     "execution_count": 7,
     "metadata": {},
     "output_type": "execute_result"
    }
   ],
   "source": [
    "df.track_genre.nunique()"
   ]
  },
  {
   "cell_type": "code",
   "execution_count": 9,
   "id": "985aed27",
   "metadata": {},
   "outputs": [
    {
     "name": "stdout",
     "output_type": "stream",
     "text": [
      "['classical', 'country', 'house', 'jazz', 'k-pop', 'metal', 'pop', 'r-n-b', 'reggae', 'rock']\n",
      "10\n"
     ]
    }
   ],
   "source": [
    "#Choix de 10 genres pour la classification\n",
    "#Genre choisis car populaires et généralement avec parole \n",
    "genres = ['classical','country', 'house', 'metal', 'k-pop', 'jazz', 'rock', 'pop', 'r-n-b', 'reggae']\n",
    "genres.sort()\n",
    "print(genres)\n",
    "print(len(genres))"
   ]
  },
  {
   "cell_type": "code",
   "execution_count": 11,
   "id": "a7594b8a",
   "metadata": {},
   "outputs": [],
   "source": [
    "df = df.loc[df.track_genre.isin(genres)]\n",
    "df  = df.reset_index() #pour que les indices partent de 0"
   ]
  },
  {
   "cell_type": "code",
   "execution_count": 13,
   "id": "61a052fb",
   "metadata": {},
   "outputs": [
    {
     "name": "stdout",
     "output_type": "stream",
     "text": [
      "<class 'pandas.core.frame.DataFrame'>\n",
      "RangeIndex: 9999 entries, 0 to 9998\n",
      "Data columns (total 21 columns):\n",
      " #   Column            Non-Null Count  Dtype  \n",
      "---  ------            --------------  -----  \n",
      " 0   index             9999 non-null   int64  \n",
      " 1   track_id          9999 non-null   object \n",
      " 2   artists           9999 non-null   object \n",
      " 3   album_name        9999 non-null   object \n",
      " 4   track_name        9999 non-null   object \n",
      " 5   popularity        9999 non-null   int64  \n",
      " 6   duration_ms       9999 non-null   int64  \n",
      " 7   explicit          9999 non-null   bool   \n",
      " 8   danceability      9999 non-null   float64\n",
      " 9   energy            9999 non-null   float64\n",
      " 10  key               9999 non-null   int64  \n",
      " 11  loudness          9999 non-null   float64\n",
      " 12  mode              9999 non-null   int64  \n",
      " 13  speechiness       9999 non-null   float64\n",
      " 14  acousticness      9999 non-null   float64\n",
      " 15  instrumentalness  9999 non-null   float64\n",
      " 16  liveness          9999 non-null   float64\n",
      " 17  valence           9999 non-null   float64\n",
      " 18  tempo             9999 non-null   float64\n",
      " 19  time_signature    9999 non-null   int64  \n",
      " 20  track_genre       9999 non-null   object \n",
      "dtypes: bool(1), float64(9), int64(6), object(5)\n",
      "memory usage: 1.5+ MB\n"
     ]
    }
   ],
   "source": [
    "#verificaton du nouveau data set\n",
    "df.info()"
   ]
  },
  {
   "cell_type": "code",
   "execution_count": 15,
   "id": "aa13c50a",
   "metadata": {},
   "outputs": [
    {
     "data": {
      "text/plain": [
       "10"
      ]
     },
     "execution_count": 15,
     "metadata": {},
     "output_type": "execute_result"
    }
   ],
   "source": [
    "df['track_genre'].nunique()"
   ]
  },
  {
   "cell_type": "code",
   "execution_count": null,
   "id": "715bed22",
   "metadata": {},
   "outputs": [],
   "source": [
    "#Observation: Dataset equilibré, il n'y aura\n",
    "#pas de problème de déséquilibre de données \n",
    "#à devoir prendre en compte pour l'éval de notre classif"
   ]
  },
  {
   "cell_type": "code",
   "execution_count": 16,
   "id": "352df907",
   "metadata": {},
   "outputs": [],
   "source": [
    "cols = df.columns"
   ]
  },
  {
   "cell_type": "code",
   "execution_count": 18,
   "id": "88b49114",
   "metadata": {},
   "outputs": [
    {
     "data": {
      "text/plain": [
       "Index(['index', 'track_id', 'artists', 'album_name', 'track_name',\n",
       "       'popularity', 'duration_ms', 'explicit', 'danceability', 'energy',\n",
       "       'key', 'loudness', 'mode', 'speechiness', 'acousticness',\n",
       "       'instrumentalness', 'liveness', 'valence', 'tempo', 'time_signature',\n",
       "       'track_genre'],\n",
       "      dtype='object')"
      ]
     },
     "execution_count": 18,
     "metadata": {},
     "output_type": "execute_result"
    }
   ],
   "source": [
    "cols"
   ]
  },
  {
   "cell_type": "code",
   "execution_count": 22,
   "id": "0435bc39",
   "metadata": {},
   "outputs": [],
   "source": [
    "from sklearn.pipeline import Pipeline\n",
    "from sklearn.compose import ColumnTransformer\n",
    "from sklearn.preprocessing import OneHotEncoder, LabelEncoder, MinMaxScaler\n",
    "from sklearn.model_selection import train_test_split"
   ]
  },
  {
   "cell_type": "code",
   "execution_count": 23,
   "id": "cac090f0",
   "metadata": {},
   "outputs": [],
   "source": [
    "y = df['track_genre']\n",
    "encoding_y = LabelEncoder()\n",
    "y = encoding_y.fit_transform(y)\n",
    "X = df.drop(['index','track_genre', 'track_id', 'artists', 'album_name', 'track_name'], axis = 1)"
   ]
  },
  {
   "cell_type": "code",
   "execution_count": 24,
   "id": "040476e1",
   "metadata": {},
   "outputs": [],
   "source": [
    "\n",
    "X_train, X_valid, y_train, y_valid = train_test_split(X, y, train_size=0.8, test_size=0.2,\n",
    "                                                      random_state=0)"
   ]
  },
  {
   "cell_type": "code",
   "execution_count": 25,
   "id": "a5ab1579",
   "metadata": {},
   "outputs": [
    {
     "data": {
      "text/html": [
       "<div>\n",
       "<style scoped>\n",
       "    .dataframe tbody tr th:only-of-type {\n",
       "        vertical-align: middle;\n",
       "    }\n",
       "\n",
       "    .dataframe tbody tr th {\n",
       "        vertical-align: top;\n",
       "    }\n",
       "\n",
       "    .dataframe thead th {\n",
       "        text-align: right;\n",
       "    }\n",
       "</style>\n",
       "<table border=\"1\" class=\"dataframe\">\n",
       "  <thead>\n",
       "    <tr style=\"text-align: right;\">\n",
       "      <th></th>\n",
       "      <th>popularity</th>\n",
       "      <th>duration_ms</th>\n",
       "      <th>explicit</th>\n",
       "      <th>danceability</th>\n",
       "      <th>energy</th>\n",
       "      <th>key</th>\n",
       "      <th>loudness</th>\n",
       "      <th>mode</th>\n",
       "      <th>speechiness</th>\n",
       "      <th>acousticness</th>\n",
       "      <th>instrumentalness</th>\n",
       "      <th>liveness</th>\n",
       "      <th>valence</th>\n",
       "      <th>tempo</th>\n",
       "      <th>time_signature</th>\n",
       "    </tr>\n",
       "  </thead>\n",
       "  <tbody>\n",
       "    <tr>\n",
       "      <th>0</th>\n",
       "      <td>58</td>\n",
       "      <td>298266</td>\n",
       "      <td>False</td>\n",
       "      <td>0.643</td>\n",
       "      <td>0.268</td>\n",
       "      <td>11</td>\n",
       "      <td>-15.073</td>\n",
       "      <td>0</td>\n",
       "      <td>0.0900</td>\n",
       "      <td>0.593</td>\n",
       "      <td>0.000002</td>\n",
       "      <td>0.316</td>\n",
       "      <td>0.620</td>\n",
       "      <td>143.813</td>\n",
       "      <td>4</td>\n",
       "    </tr>\n",
       "    <tr>\n",
       "      <th>1</th>\n",
       "      <td>59</td>\n",
       "      <td>482586</td>\n",
       "      <td>False</td>\n",
       "      <td>0.484</td>\n",
       "      <td>0.898</td>\n",
       "      <td>0</td>\n",
       "      <td>-4.132</td>\n",
       "      <td>1</td>\n",
       "      <td>0.1640</td>\n",
       "      <td>0.365</td>\n",
       "      <td>0.000000</td>\n",
       "      <td>0.091</td>\n",
       "      <td>0.680</td>\n",
       "      <td>91.975</td>\n",
       "      <td>4</td>\n",
       "    </tr>\n",
       "    <tr>\n",
       "      <th>2</th>\n",
       "      <td>54</td>\n",
       "      <td>219437</td>\n",
       "      <td>False</td>\n",
       "      <td>0.608</td>\n",
       "      <td>0.638</td>\n",
       "      <td>11</td>\n",
       "      <td>-6.008</td>\n",
       "      <td>0</td>\n",
       "      <td>0.0292</td>\n",
       "      <td>0.581</td>\n",
       "      <td>0.017200</td>\n",
       "      <td>0.448</td>\n",
       "      <td>0.439</td>\n",
       "      <td>140.109</td>\n",
       "      <td>4</td>\n",
       "    </tr>\n",
       "    <tr>\n",
       "      <th>3</th>\n",
       "      <td>68</td>\n",
       "      <td>299146</td>\n",
       "      <td>False</td>\n",
       "      <td>0.695</td>\n",
       "      <td>0.293</td>\n",
       "      <td>11</td>\n",
       "      <td>-16.278</td>\n",
       "      <td>0</td>\n",
       "      <td>0.0431</td>\n",
       "      <td>0.596</td>\n",
       "      <td>0.015800</td>\n",
       "      <td>0.132</td>\n",
       "      <td>0.637</td>\n",
       "      <td>143.804</td>\n",
       "      <td>4</td>\n",
       "    </tr>\n",
       "    <tr>\n",
       "      <th>4</th>\n",
       "      <td>59</td>\n",
       "      <td>387716</td>\n",
       "      <td>False</td>\n",
       "      <td>0.583</td>\n",
       "      <td>0.308</td>\n",
       "      <td>7</td>\n",
       "      <td>-18.303</td>\n",
       "      <td>0</td>\n",
       "      <td>0.0465</td>\n",
       "      <td>0.581</td>\n",
       "      <td>0.010600</td>\n",
       "      <td>0.257</td>\n",
       "      <td>0.241</td>\n",
       "      <td>118.226</td>\n",
       "      <td>4</td>\n",
       "    </tr>\n",
       "  </tbody>\n",
       "</table>\n",
       "</div>"
      ],
      "text/plain": [
       "   popularity  duration_ms  explicit  danceability  energy  key  loudness  \\\n",
       "0          58       298266     False         0.643   0.268   11   -15.073   \n",
       "1          59       482586     False         0.484   0.898    0    -4.132   \n",
       "2          54       219437     False         0.608   0.638   11    -6.008   \n",
       "3          68       299146     False         0.695   0.293   11   -16.278   \n",
       "4          59       387716     False         0.583   0.308    7   -18.303   \n",
       "\n",
       "   mode  speechiness  acousticness  instrumentalness  liveness  valence  \\\n",
       "0     0       0.0900         0.593          0.000002     0.316    0.620   \n",
       "1     1       0.1640         0.365          0.000000     0.091    0.680   \n",
       "2     0       0.0292         0.581          0.017200     0.448    0.439   \n",
       "3     0       0.0431         0.596          0.015800     0.132    0.637   \n",
       "4     0       0.0465         0.581          0.010600     0.257    0.241   \n",
       "\n",
       "     tempo  time_signature  \n",
       "0  143.813               4  \n",
       "1   91.975               4  \n",
       "2  140.109               4  \n",
       "3  143.804               4  \n",
       "4  118.226               4  "
      ]
     },
     "execution_count": 25,
     "metadata": {},
     "output_type": "execute_result"
    }
   ],
   "source": [
    "X.head()"
   ]
  },
  {
   "cell_type": "code",
   "execution_count": 26,
   "id": "27fcdc35",
   "metadata": {},
   "outputs": [],
   "source": [
    "numerical_features= ['popularity',\n",
    " 'duration_ms',\n",
    " 'danceability',\n",
    " 'energy',\n",
    " 'key',\n",
    " 'loudness',\n",
    " 'speechiness',\n",
    " 'acousticness',\n",
    " 'instrumentalness',\n",
    " 'liveness',\n",
    " 'valence',\n",
    " 'tempo']\n",
    "categorical_features = ['time_signature', 'mode', 'explicit']"
   ]
  },
  {
   "cell_type": "code",
   "execution_count": null,
   "id": "31bb811b",
   "metadata": {},
   "outputs": [],
   "source": [
    "#Preprocessing Pipeline\n",
    "\n",
    "#Variables numériques:\n",
    "#Aucune donnée manquante, pas de SimpleImputer\n",
    "#Scaling des données par MinMaxScaler\n",
    "\n",
    "#Variables categorielles: [time_signature, mode]\n",
    "#Aucune donnée manquante, pas de SimpleImputer\n",
    "#OneHotEncoder"
   ]
  },
  {
   "cell_type": "code",
   "execution_count": 27,
   "id": "196e26c8",
   "metadata": {},
   "outputs": [],
   "source": [
    "numerical_transformer = Pipeline(steps=[\n",
    "    ('scaler', MinMaxScaler())\n",
    "])\n",
    "categorical_transformer = Pipeline(steps=[\n",
    "    ('encoder', OneHotEncoder())\n",
    "])\n",
    "\n",
    "preprocessor = ColumnTransformer(\n",
    "    transformers=[\n",
    "        ('numerical', numerical_transformer, numerical_features),\n",
    "        ('catergorical', categorical_transformer, categorical_features)\n",
    "    ]\n",
    ")"
   ]
  },
  {
   "cell_type": "code",
   "execution_count": null,
   "id": "191e5af5",
   "metadata": {},
   "outputs": [],
   "source": [
    "#Test de différents classifieurs sans modification de \n",
    "#paramètres pour séléctionner des classif candidats"
   ]
  },
  {
   "cell_type": "code",
   "execution_count": 28,
   "id": "53fe4e83",
   "metadata": {},
   "outputs": [],
   "source": [
    "from sklearn.metrics import accuracy_score"
   ]
  },
  {
   "cell_type": "code",
   "execution_count": 35,
   "id": "6b19fb76",
   "metadata": {},
   "outputs": [],
   "source": [
    "from sklearn.ensemble import GradientBoostingClassifier \n",
    "from sklearn.linear_model import LogisticRegression\n",
    "from sklearn.neighbors import KNeighborsClassifier \n",
    "from sklearn.svm import SVC\n",
    "from sklearn.tree import DecisionTreeClassifier \n",
    "from sklearn.ensemble import RandomForestClassifier \n",
    "from sklearn.ensemble import AdaBoostClassifier \n",
    "from xgboost import XGBClassifier as XGB"
   ]
  },
  {
   "cell_type": "code",
   "execution_count": null,
   "id": "d2c67561",
   "metadata": {},
   "outputs": [],
   "source": [
    "#Entrainement et analyse de classifieurs candidats \n",
    "#Sans modification de leurs paramètres de base"
   ]
  },
  {
   "cell_type": "code",
   "execution_count": 36,
   "id": "e8c093f7",
   "metadata": {},
   "outputs": [],
   "source": [
    "dict_classifiers = {\n",
    "    \"Logreg\": LogisticRegression(solver='lbfgs'),\n",
    "    \"NN\": KNeighborsClassifier(),\n",
    "    \"SVM\": SVC(),\n",
    "    \"GBC\": GradientBoostingClassifier(),\n",
    "    \"DT\": DecisionTreeClassifier(),\n",
    "    \"RF\": RandomForestClassifier(),\n",
    "    \"AB\": AdaBoostClassifier(),\n",
    "    \"XGB\": XGB()\n",
    "}"
   ]
  },
  {
   "cell_type": "code",
   "execution_count": 42,
   "id": "684290ae",
   "metadata": {},
   "outputs": [],
   "source": [
    "from sklearn.metrics import confusion_matrix\n",
    "import matplotlib.pyplot as plt"
   ]
  },
  {
   "cell_type": "code",
   "execution_count": 45,
   "id": "5272faee",
   "metadata": {},
   "outputs": [
    {
     "name": "stdout",
     "output_type": "stream",
     "text": [
      "Logreg\n",
      "NN\n",
      "SVM\n",
      "GBC\n",
      "DT\n",
      "RF\n",
      "AB\n",
      "XGB\n"
     ]
    }
   ],
   "source": [
    "for name, model in dict_classifiers.items():\n",
    "    print(name)"
   ]
  },
  {
   "cell_type": "code",
   "execution_count": 49,
   "id": "9d7b0d4b",
   "metadata": {},
   "outputs": [
    {
     "name": "stdout",
     "output_type": "stream",
     "text": [
      "Logreg : 0.46\n"
     ]
    },
    {
     "name": "stderr",
     "output_type": "stream",
     "text": [
      "/home/fg/miniconda3/lib/python3.9/site-packages/sklearn/linear_model/_logistic.py:444: ConvergenceWarning: lbfgs failed to converge (status=1):\n",
      "STOP: TOTAL NO. of ITERATIONS REACHED LIMIT.\n",
      "\n",
      "Increase the number of iterations (max_iter) or scale the data as shown in:\n",
      "    https://scikit-learn.org/stable/modules/preprocessing.html\n",
      "Please also refer to the documentation for alternative solver options:\n",
      "    https://scikit-learn.org/stable/modules/linear_model.html#logistic-regression\n",
      "  n_iter_i = _check_optimize_result(\n"
     ]
    },
    {
     "data": {
      "image/png": "[encoded data removed]",
      "text/plain": [
       "<Figure size 480x480 with 1 Axes>"
      ]
     },
     "metadata": {},
     "output_type": "display_data"
    },
    {
     "name": "stdout",
     "output_type": "stream",
     "text": [
      "NN : 0.543\n"
     ]
    },
    {
     "data": {
      "image/png": "[encoded data removed]",
      "text/plain": [
       "<Figure size 480x480 with 1 Axes>"
      ]
     },
     "metadata": {},
     "output_type": "display_data"
    },
    {
     "name": "stdout",
     "output_type": "stream",
     "text": [
      "SVM : 0.5145\n"
     ]
    },
    {
     "data": {
      "image/png": "[encoded data removed]",
      "text/plain": [
       "<Figure size 480x480 with 1 Axes>"
      ]
     },
     "metadata": {},
     "output_type": "display_data"
    },
    {
     "name": "stdout",
     "output_type": "stream",
     "text": [
      "GBC : 0.665\n"
     ]
    },
    {
     "data": {
      "image/png": "[encoded data removed]",
      "text/plain": [
       "<Figure size 480x480 with 1 Axes>"
      ]
     },
     "metadata": {},
     "output_type": "display_data"
    },
    {
     "name": "stdout",
     "output_type": "stream",
     "text": [
      "DT : 0.586\n"
     ]
    },
    {
     "data": {
      "image/png": "[encoded data removed]",
      "text/plain": [
       "<Figure size 480x480 with 1 Axes>"
      ]
     },
     "metadata": {},
     "output_type": "display_data"
    },
    {
     "name": "stdout",
     "output_type": "stream",
     "text": [
      "RF : 0.7125\n"
     ]
    },
    {
     "data": {
      "image/png": "[encoded data removed]",
      "text/plain": [
       "<Figure size 480x480 with 1 Axes>"
      ]
     },
     "metadata": {},
     "output_type": "display_data"
    },
    {
     "name": "stdout",
     "output_type": "stream",
     "text": [
      "AB : 0.4325\n"
     ]
    },
    {
     "data": {
      "image/png": "[encoded data removed]",
      "text/plain": [
       "<Figure size 480x480 with 1 Axes>"
      ]
     },
     "metadata": {},
     "output_type": "display_data"
    },
    {
     "name": "stdout",
     "output_type": "stream",
     "text": [
      "XGB : 0.7085\n"
     ]
    },
    {
     "data": {
      "image/png": "[encoded data removed]",
      "text/plain": [
       "<Figure size 480x480 with 1 Axes>"
      ]
     },
     "metadata": {},
     "output_type": "display_data"
    }
   ],
   "source": [
    "for name, model in dict_classifiers.items():\n",
    "    final_pipeline = Pipeline(steps=[('pre', preprocessor),('model', model)])\n",
    "    final_pipeline.fit(X_train, y_train)\n",
    "    preds = final_pipeline.predict(X_valid)\n",
    "    score = accuracy_score(y_valid, preds)\n",
    "    print(name,':', score)\n",
    "    conf_mat = confusion_matrix(y_valid, preds)\n",
    "    plt.matshow(conf_mat)\n",
    "    plt.show()"
   ]
  },
  {
   "cell_type": "code",
   "execution_count": null,
   "id": "c278c34b",
   "metadata": {},
   "outputs": [],
   "source": []
  },
  {
   "cell_type": "code",
   "execution_count": null,
   "id": "7af6ebed",
   "metadata": {},
   "outputs": [],
   "source": []
  },
  {
   "cell_type": "code",
   "execution_count": null,
   "id": "dd899e7c",
   "metadata": {},
   "outputs": [],
   "source": []
  },
  {
   "cell_type": "code",
   "execution_count": null,
   "id": "047b69b7",
   "metadata": {},
   "outputs": [],
   "source": []
  }
 ],
 "metadata": {
  "kernelspec": {
   "display_name": "Python 3 (ipykernel)",
   "language": "python",
   "name": "python3"
  },
  "language_info": {
   "codemirror_mode": {
    "name": "ipython",
    "version": 3
   },
   "file_extension": ".py",
   "mimetype": "text/x-python",
   "name": "python",
   "nbconvert_exporter": "python",
   "pygments_lexer": "ipython3",
   "version": "3.9.12"
  }
 },
 "nbformat": 4,
 "nbformat_minor": 5
}
